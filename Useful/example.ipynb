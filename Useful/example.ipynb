{
 "cells": [
  {
   "cell_type": "code",
   "execution_count": 56,
   "metadata": {},
   "outputs": [],
   "source": [
    "import pandas as pd\n",
    "import matplotlib.pyplot as plt\n",
    "\n",
    "df1 = pd.read_csv('data_4.csv', sep=';', encoding='ansi')\n",
    "df2 = pd.read_csv('data_4_old.csv', sep=';', encoding='ansi')"
   ]
  },
  {
   "cell_type": "code",
   "execution_count": 32,
   "metadata": {},
   "outputs": [
    {
     "data": {
      "text/html": [
       "<div>\n",
       "<style scoped>\n",
       "    .dataframe tbody tr th:only-of-type {\n",
       "        vertical-align: middle;\n",
       "    }\n",
       "\n",
       "    .dataframe tbody tr th {\n",
       "        vertical-align: top;\n",
       "    }\n",
       "\n",
       "    .dataframe thead th {\n",
       "        text-align: right;\n",
       "    }\n",
       "</style>\n",
       "<table border=\"1\" class=\"dataframe\">\n",
       "  <thead>\n",
       "    <tr style=\"text-align: right;\">\n",
       "      <th></th>\n",
       "      <th>time</th>\n",
       "      <th>U1</th>\n",
       "      <th>P</th>\n",
       "      <th>Q</th>\n",
       "      <th>F</th>\n",
       "      <th>Uf</th>\n",
       "      <th>If</th>\n",
       "    </tr>\n",
       "  </thead>\n",
       "  <tbody>\n",
       "    <tr>\n",
       "      <th>0</th>\n",
       "      <td>0.00</td>\n",
       "      <td>210.001179</td>\n",
       "      <td>319.866669</td>\n",
       "      <td>307.557467</td>\n",
       "      <td>49.999924</td>\n",
       "      <td>0.526677</td>\n",
       "      <td>0.521608</td>\n",
       "    </tr>\n",
       "    <tr>\n",
       "      <th>1</th>\n",
       "      <td>0.02</td>\n",
       "      <td>210.001535</td>\n",
       "      <td>319.868057</td>\n",
       "      <td>307.568109</td>\n",
       "      <td>49.999924</td>\n",
       "      <td>0.526836</td>\n",
       "      <td>0.521612</td>\n",
       "    </tr>\n",
       "    <tr>\n",
       "      <th>2</th>\n",
       "      <td>0.04</td>\n",
       "      <td>210.001963</td>\n",
       "      <td>319.870264</td>\n",
       "      <td>307.580702</td>\n",
       "      <td>49.999928</td>\n",
       "      <td>0.526714</td>\n",
       "      <td>0.521617</td>\n",
       "    </tr>\n",
       "    <tr>\n",
       "      <th>3</th>\n",
       "      <td>0.06</td>\n",
       "      <td>210.002247</td>\n",
       "      <td>319.871393</td>\n",
       "      <td>307.591414</td>\n",
       "      <td>49.999939</td>\n",
       "      <td>0.526819</td>\n",
       "      <td>0.521620</td>\n",
       "    </tr>\n",
       "    <tr>\n",
       "      <th>4</th>\n",
       "      <td>0.08</td>\n",
       "      <td>210.002003</td>\n",
       "      <td>319.867849</td>\n",
       "      <td>307.588013</td>\n",
       "      <td>49.999931</td>\n",
       "      <td>0.524497</td>\n",
       "      <td>0.521587</td>\n",
       "    </tr>\n",
       "  </tbody>\n",
       "</table>\n",
       "</div>"
      ],
      "text/plain": [
       "   time          U1           P           Q          F        Uf        If\n",
       "0  0.00  210.001179  319.866669  307.557467  49.999924  0.526677  0.521608\n",
       "1  0.02  210.001535  319.868057  307.568109  49.999924  0.526836  0.521612\n",
       "2  0.04  210.001963  319.870264  307.580702  49.999928  0.526714  0.521617\n",
       "3  0.06  210.002247  319.871393  307.591414  49.999939  0.526819  0.521620\n",
       "4  0.08  210.002003  319.867849  307.588013  49.999931  0.524497  0.521587"
      ]
     },
     "execution_count": 32,
     "metadata": {},
     "output_type": "execute_result"
    }
   ],
   "source": [
    "df1.columns = [\"time\", \"U1\",\"P\",\"Q\",\"F\",\"Uf\",\"If\"] #\n",
    "df2.columns = [\"time\", \"U1\",\"P\",\"Q\",\"F\",\"Uf\",\"If\"] #\n",
    "df1.head() #"
   ]
  },
  {
   "cell_type": "code",
   "execution_count": 33,
   "metadata": {},
   "outputs": [
    {
     "data": {
      "text/html": [
       "<div>\n",
       "<style scoped>\n",
       "    .dataframe tbody tr th:only-of-type {\n",
       "        vertical-align: middle;\n",
       "    }\n",
       "\n",
       "    .dataframe tbody tr th {\n",
       "        vertical-align: top;\n",
       "    }\n",
       "\n",
       "    .dataframe thead th {\n",
       "        text-align: right;\n",
       "    }\n",
       "</style>\n",
       "<table border=\"1\" class=\"dataframe\">\n",
       "  <thead>\n",
       "    <tr style=\"text-align: right;\">\n",
       "      <th></th>\n",
       "      <th>time</th>\n",
       "      <th>U1</th>\n",
       "      <th>P</th>\n",
       "      <th>Q</th>\n",
       "      <th>F</th>\n",
       "      <th>Uf</th>\n",
       "      <th>If</th>\n",
       "    </tr>\n",
       "  </thead>\n",
       "  <tbody>\n",
       "    <tr>\n",
       "      <th>0</th>\n",
       "      <td>0.00</td>\n",
       "      <td>209.946793</td>\n",
       "      <td>1986.123305</td>\n",
       "      <td>626.681279</td>\n",
       "      <td>50.000366</td>\n",
       "      <td>0.806104</td>\n",
       "      <td>0.802237</td>\n",
       "    </tr>\n",
       "    <tr>\n",
       "      <th>1</th>\n",
       "      <td>0.02</td>\n",
       "      <td>209.947080</td>\n",
       "      <td>1986.147821</td>\n",
       "      <td>626.710611</td>\n",
       "      <td>50.000389</td>\n",
       "      <td>0.805547</td>\n",
       "      <td>0.802256</td>\n",
       "    </tr>\n",
       "    <tr>\n",
       "      <th>2</th>\n",
       "      <td>0.04</td>\n",
       "      <td>209.947750</td>\n",
       "      <td>1986.178068</td>\n",
       "      <td>626.739980</td>\n",
       "      <td>50.000378</td>\n",
       "      <td>0.805780</td>\n",
       "      <td>0.802271</td>\n",
       "    </tr>\n",
       "    <tr>\n",
       "      <th>3</th>\n",
       "      <td>0.06</td>\n",
       "      <td>209.947820</td>\n",
       "      <td>1986.198872</td>\n",
       "      <td>626.770004</td>\n",
       "      <td>50.000416</td>\n",
       "      <td>0.805408</td>\n",
       "      <td>0.802280</td>\n",
       "    </tr>\n",
       "    <tr>\n",
       "      <th>4</th>\n",
       "      <td>0.08</td>\n",
       "      <td>209.947189</td>\n",
       "      <td>1986.207687</td>\n",
       "      <td>626.799777</td>\n",
       "      <td>50.000401</td>\n",
       "      <td>0.804714</td>\n",
       "      <td>0.802285</td>\n",
       "    </tr>\n",
       "  </tbody>\n",
       "</table>\n",
       "</div>"
      ],
      "text/plain": [
       "   time          U1            P           Q          F        Uf        If\n",
       "0  0.00  209.946793  1986.123305  626.681279  50.000366  0.806104  0.802237\n",
       "1  0.02  209.947080  1986.147821  626.710611  50.000389  0.805547  0.802256\n",
       "2  0.04  209.947750  1986.178068  626.739980  50.000378  0.805780  0.802271\n",
       "3  0.06  209.947820  1986.198872  626.770004  50.000416  0.805408  0.802280\n",
       "4  0.08  209.947189  1986.207687  626.799777  50.000401  0.804714  0.802285"
      ]
     },
     "execution_count": 33,
     "metadata": {},
     "output_type": "execute_result"
    }
   ],
   "source": [
    "df2.head() #"
   ]
  },
  {
   "cell_type": "code",
   "execution_count": 40,
   "metadata": {},
   "outputs": [
    {
     "data": {
      "text/plain": [
       "[<matplotlib.lines.Line2D at 0x2306dfd31d0>]"
      ]
     },
     "execution_count": 40,
     "metadata": {},
     "output_type": "execute_result"
    },
    {
     "data": {
      "image/png": "[encoded data removed]",
      "text/plain": [
       "<Figure size 640x480 with 1 Axes>"
      ]
     },
     "metadata": {},
     "output_type": "display_data"
    }
   ],
   "source": [
    "plt.plot(df1[\"time\"], df1[\"U1\"]) #\n",
    "plt.plot(df2[\"time\"], df2[\"U1\"]) #"
   ]
  },
  {
   "cell_type": "code",
   "execution_count": 55,
   "metadata": {},
   "outputs": [
    {
     "data": {
      "text/plain": [
       "[<matplotlib.lines.Line2D at 0x2307cecf2d0>]"
      ]
     },
     "execution_count": 55,
     "metadata": {},
     "output_type": "execute_result"
    },
    {
     "data": {
      "image/png": "[encoded data removed]",
      "text/plain": [
       "<Figure size 640x480 with 1 Axes>"
      ]
     },
     "metadata": {},
     "output_type": "display_data"
    }
   ],
   "source": [
    "plt.plot(df1[\"time\"], df1[\"P\"]) #\n",
    "plt.plot(df2[\"time\"], df2[\"P\"]) #"
   ]
  }
 ],
 "metadata": {
  "kernelspec": {
   "display_name": "myenv",
   "language": "python",
   "name": "python3"
  },
  "language_info": {
   "codemirror_mode": {
    "name": "ipython",
    "version": 3
   },
   "file_extension": ".py",
   "mimetype": "text/x-python",
   "name": "python",
   "nbconvert_exporter": "python",
   "pygments_lexer": "ipython3",
   "version": "3.11.8"
  }
 },
 "nbformat": 4,
 "nbformat_minor": 2
}
