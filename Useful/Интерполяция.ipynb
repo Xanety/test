{
 "cells": [
  {
   "cell_type": "code",
   "execution_count": null,
   "metadata": {},
   "outputs": [],
   "source": [
    "import numpy as np\n",
    "import pandas as pd\n",
    "import matplotlib.pyplot as plt\n",
    "from scipy.interpolate import interp1d"
   ]
  },
  {
   "cell_type": "code",
   "execution_count": null,
   "metadata": {},
   "outputs": [],
   "source": [
    "# Метод интерполяции для добавления новых точек\n",
    "\n",
    "# Предполагаем, что у вас есть массив времени t и соответствующие значения мощности y\n",
    "t = np.array(df_main.index)  # Или ваш массив времени\n",
    "y = np.array(df_main[\"G1_P\"])\n",
    "\n",
    "# Создаем функцию интерполяции\n",
    "f = interp1d(t, y, kind='cubic')  # 'cubic' для кубической интерполяции\n",
    "\n",
    "# Генерируем новые точки времени для интерполяции\n",
    "t_new = np.linspace(t.min(), t.max(), num=len(t)*50)  # Увеличиваем количество точек в 10 раз\n",
    "\n",
    "# Применяем функцию интерполяции к новым точкам времени\n",
    "y_new = f(t_new)\n",
    "\n",
    "# Теперь используем y_new для построения графика\n",
    "plt.plot(t_new, y_new, label='Интерполированная активная мощность')\n",
    "plt.legend()\n",
    "plt.show()\n"
   ]
  }
 ],
 "metadata": {
  "language_info": {
   "name": "python"
  }
 },
 "nbformat": 4,
 "nbformat_minor": 2
}
